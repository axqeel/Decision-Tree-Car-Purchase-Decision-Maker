{
  "nbformat": 4,
  "nbformat_minor": 0,
  "metadata": {
    "colab": {
      "provenance": []
    },
    "kernelspec": {
      "name": "python3",
      "display_name": "Python 3"
    },
    "language_info": {
      "name": "python"
    }
  },
  "cells": [
    {
      "cell_type": "code",
      "execution_count": 16,
      "metadata": {
        "id": "6F8WcO9Yjfj7"
      },
      "outputs": [],
      "source": [
        "import pandas as pd\n",
        "import numpy as np\n",
        "from sklearn.model_selection import train_test_split\n",
        "from sklearn.metrics import classification_report,accuracy_score\n",
        "from sklearn.tree import DecisionTreeClassifier\n",
        "from sklearn.preprocessing import LabelEncoder"
      ]
    },
    {
      "cell_type": "code",
      "source": [
        "columns=['a','b','c','d','e','f','g']\n",
        "df=pd.read_csv(\"car.csv\",names=columns)\n",
        "label=LabelEncoder()\n",
        "for i in df.columns:\n",
        "  df[i]=label.fit_transform(df[i])\n",
        "x=df.drop(columns=['g'])\n",
        "y=df['g']\n",
        "x_train,x_test,y_train,y_test=train_test_split(x,y,test_size=0.3,random_state=1)"
      ],
      "metadata": {
        "id": "tGZEwUOvnzMm"
      },
      "execution_count": 17,
      "outputs": []
    },
    {
      "cell_type": "code",
      "source": [
        "model=DecisionTreeClassifier()\n",
        "model.fit(x_train,y_train)\n",
        "y_pred=model.predict(x_test)\n",
        "clas=classification_report(y_test,y_pred)\n",
        "print(clas)\n",
        "accu=accuracy_score(y_test,y_pred)\n",
        "print(\"accuracy score :{:.2f}\".format(accu*100))"
      ],
      "metadata": {
        "colab": {
          "base_uri": "https://localhost:8080/"
        },
        "id": "EZana5ENoqz8",
        "outputId": "51e2def1-e469-40be-a9ab-59e2db971d0d"
      },
      "execution_count": 18,
      "outputs": [
        {
          "output_type": "stream",
          "name": "stdout",
          "text": [
            "              precision    recall  f1-score   support\n",
            "\n",
            "           0       0.93      0.95      0.94       111\n",
            "           1       0.90      0.86      0.88        22\n",
            "           2       0.99      0.98      0.99       368\n",
            "           3       0.94      0.94      0.94        18\n",
            "\n",
            "    accuracy                           0.97       519\n",
            "   macro avg       0.94      0.93      0.94       519\n",
            "weighted avg       0.97      0.97      0.97       519\n",
            "\n",
            "accuracy score :96.92\n"
          ]
        }
      ]
    }
  ]
}